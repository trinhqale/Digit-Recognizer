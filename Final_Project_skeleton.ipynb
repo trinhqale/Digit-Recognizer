{
  "nbformat": 4,
  "nbformat_minor": 0,
  "metadata": {
    "colab": {
      "provenance": [],
      "include_colab_link": true
    },
    "kernelspec": {
      "name": "python3",
      "display_name": "Python 3"
    },
    "language_info": {
      "name": "python"
    }
  },
  "cells": [
    {
      "cell_type": "markdown",
      "metadata": {
        "id": "view-in-github",
        "colab_type": "text"
      },
      "source": [
        "<a href=\"https://colab.research.google.com/github/trinhqale/Digit-Recognizer/blob/main/Final_Project_skeleton.ipynb\" target=\"_parent\"><img src=\"https://colab.research.google.com/assets/colab-badge.svg\" alt=\"Open In Colab\"/></a>"
      ]
    },
    {
      "cell_type": "markdown",
      "source": [
        "### Final Project Skeleton Code\n",
        "This notebook is meant to be skeleton code for the final project. We have filled in the code to allow you to download the dataset and train your neural network on it. We have not made the neural network for you. All of the specifics, including layer sizes and hyperparameters, are up to you to decide. Some of this code may not work perfectly for you, so you will have to read it and understand what is going on so that you can create your neural network. The testing cell at the end is how we will be testing your neural networks, so be sure that whatever you do, it works with that cell. (For example: do any data processing such as flattening and padding in the forward function rather than in the testing loop as we will not be editing our testing loop to reflect any of those changes)"
      ],
      "metadata": {
        "id": "IGDfimpAgFUB"
      }
    },
    {
      "cell_type": "code",
      "execution_count": null,
      "metadata": {
        "id": "V3mCzc_XR3Tt",
        "colab": {
          "base_uri": "https://localhost:8080/"
        },
        "outputId": "73afbc51-d2f9-40af-aaaa-8a1c928c0a64"
      },
      "outputs": [
        {
          "output_type": "stream",
          "name": "stdout",
          "text": [
            "Looking in indexes: https://pypi.org/simple, https://us-python.pkg.dev/colab-wheels/public/simple/\n",
            "Requirement already satisfied: torch in /usr/local/lib/python3.8/dist-packages (1.13.1+cu116)\n",
            "Requirement already satisfied: typing-extensions in /usr/local/lib/python3.8/dist-packages (from torch) (4.5.0)\n"
          ]
        }
      ],
      "source": [
        "!pip install torch"
      ]
    },
    {
      "cell_type": "markdown",
      "source": [
        "### Import Libraries"
      ],
      "metadata": {
        "id": "3C61-YqIdrw5"
      }
    },
    {
      "cell_type": "code",
      "source": [
        "import torch\n",
        "import torch.nn as nn\n",
        "import torch.nn.functional as F\n",
        "import torchvision\n",
        "import numpy as np\n",
        "import matplotlib.pyplot as plt"
      ],
      "metadata": {
        "id": "rEoTTz1gVZ8x"
      },
      "execution_count": null,
      "outputs": []
    },
    {
      "cell_type": "code",
      "source": [
        "from google.colab import drive\n",
        "drive.mount('/content/gdrive')"
      ],
      "metadata": {
        "colab": {
          "base_uri": "https://localhost:8080/"
        },
        "id": "J788lLi2YSN-",
        "outputId": "bb962cfb-4137-44f7-801a-ac02d84de71c"
      },
      "execution_count": null,
      "outputs": [
        {
          "output_type": "stream",
          "name": "stdout",
          "text": [
            "Drive already mounted at /content/gdrive; to attempt to forcibly remount, call drive.mount(\"/content/gdrive\", force_remount=True).\n"
          ]
        }
      ]
    },
    {
      "cell_type": "markdown",
      "source": [
        "### Download training and testing data"
      ],
      "metadata": {
        "id": "ag7lApFmdrFY"
      }
    },
    {
      "cell_type": "code",
      "source": [
        "import torchvision.transforms as transforms\n",
        "#The line below gets the dataset and downloads it into the specified path\n",
        "\n",
        "transform = transforms.Compose([transforms.ToTensor(), transforms.Normalize((0.5,), (0.5,)),])\n",
        "\n",
        "dataset = torchvision.datasets.MNIST('/content/gdrive/MyDrive/E96A ML Group Project', download=True, train=True) # consider how to separate this into multiple datasets\n",
        "trainset = torchvision.datasets.MNIST('/content/gdrive/MyDrive/E96A ML Group Project/trainset', download=True, train=True, transform=transform) \n",
        "testset = torchvision.datasets.MNIST('/content/gdrive/MyDrive/E96A ML Group Project/testset', download=True, train=False, transform=transform) \n",
        "#PyTorch uses dataloaders which you can learn about here: https://pytorch.org/tutorials/beginner/basics/data_tutorial.html\n",
        "#This is a convenient module for training, it automatically prepares your data for training with a given batch size.\n",
        "#The shuffle argument will automatically randomize the order of your data (but will keep inputs with associated outputs!)\n",
        "trainloader = torch.utils.data.DataLoader(trainset, batch_size = 64, shuffle = True)\n",
        "testloader = torch.utils.data.DataLoader(testset, batch_size = 64, shuffle = True)"
      ],
      "metadata": {
        "id": "Gbkb6bjEVfLS"
      },
      "execution_count": null,
      "outputs": []
    },
    {
      "cell_type": "code",
      "source": [
        "# create transform\n"
      ],
      "metadata": {
        "id": "_byj0h_6lKP4"
      },
      "execution_count": null,
      "outputs": []
    },
    {
      "cell_type": "markdown",
      "source": [
        "### Create dataloaders and visualize some examples"
      ],
      "metadata": {
        "id": "PC3bdxgfdlOk"
      }
    },
    {
      "cell_type": "code",
      "source": [
        "dataiter = iter(trainloader)\n",
        "images, labels = next(dataiter)\n",
        "\n",
        "print(images.shape)\n",
        "print(labels.shape)\n",
        "\n",
        "figure = plt.figure()\n",
        "num_of_images = 60\n",
        "for index in range(1, num_of_images + 1):\n",
        "    plt.subplot(6, 10, index)\n",
        "    plt.axis('off')\n",
        "    plt.imshow(images[index].numpy().squeeze(), cmap='gray_r')"
      ],
      "metadata": {
        "id": "IerZ_c3Na7Yx",
        "colab": {
          "base_uri": "https://localhost:8080/",
          "height": 281
        },
        "outputId": "c090adf8-dda6-4f10-f14c-f413b5a2dbae"
      },
      "execution_count": null,
      "outputs": [
        {
          "output_type": "stream",
          "name": "stdout",
          "text": [
            "torch.Size([64, 1, 28, 28])\n",
            "torch.Size([64])\n"
          ]
        },
        {
          "output_type": "display_data",
          "data": {
            "text/plain": [
              "<Figure size 432x288 with 60 Axes>"
            ],
            "image/png": "[encoded data removed]"
          },
          "metadata": {
            "needs_background": "light"
          }
        }
      ]
    },
    {
      "cell_type": "markdown",
      "source": [
        "### Model Initialization"
      ],
      "metadata": {
        "id": "m1dr4RBMdgsj"
      }
    },
    {
      "cell_type": "code",
      "source": [
        "#This is your neural network class, so it must extend nn.Module\n",
        "#For your final submission you will be submitting this cell as its own file\n",
        "#conv_1 (5x5 kernel valid padding)(28x28x1 -> 24 x 24 x n1)\n",
        "# maxpooling 2D (...-> 12x12x n1)\n",
        "#conv_2 (5x5 kernel valid padding) (... -> 8x8x n2)\n",
        "#max pooling (2x2) (... -> 4x4x n2)\n",
        "#flatten \n",
        "# fc_3 (n3 x 1)\n",
        "# fc_4 (10) \n",
        "class Digit_Classifier(nn.Module):\n",
        "  def __init__(self):\n",
        "    #Handle some under-the-hood PyTorch stuff\n",
        "    n1 = 5\n",
        "    n2 = 10\n",
        "    super().__init__()\n",
        "    #Now put your layers below in addition to any other member variables you need\n",
        "    self.conv_1 = nn.Conv2d(1, n1, kernel_size=5)\n",
        "    self.maxpool_1 = nn.MaxPool2d(2,2)\n",
        "    self.conv_2 = nn.Conv2d(n1, n2, kernel_size=5)\n",
        "    self.maxpool_2 = nn.MaxPool2d(2,2)\n",
        "    self.fc_4 = nn.Linear(16 * n2, 10)\n",
        "    self.dropout = nn.Dropout(0.5)\n",
        "    #self.layer1 = nn.Linear(28*28, 500)\n",
        "    #self.layer2 = nn.Linear(500, 100)\n",
        "    #self.final = nn.Linear(100,10)\n",
        "\n",
        "  def forward(self, x):\n",
        "    #Now here you add your forward pass, e.g. how the layers fit together\n",
        "    #Tips:\n",
        "    # 1. Don't forget the ReLU layer when needed\n",
        "    # 2. Consider normalization\n",
        "    # 3. If you are getting errors look at your dimensions, dimension errors are very easy to make!\n",
        "    # 4. CNN layers take in rectangular (or square) inputs and give rectangular (or square) outputs. Fully connected layers have input and output that are vectors, when you need to switch between the two consider using a flatten or reshape\n",
        "    #x = x.view(-1, 28*28)\n",
        "    x = self.conv_1(x)\n",
        "    x = self.maxpool_1(x)\n",
        "    x = self.conv_2(x)\n",
        "    x = self.maxpool_2(x)\n",
        "\n",
        "    x = torch.flatten(x,1)\n",
        "\n",
        "    x = F.relu(x)\n",
        "    x = self.fc_4(x)\n",
        "    #x = self.dropout(x)\n",
        "    return x\n",
        "\n",
        "    ''' out = self.layer1(x)\n",
        "    out = F.relu(out)\n",
        "    out = self.layer2(out)\n",
        "    out = F.relu(out)\n",
        "    out = self.final(out) '''\n",
        "    \n",
        "\n",
        "  #Optional: any other member functions that you think would be helpful"
      ],
      "metadata": {
        "id": "06HPHOzEbJJE"
      },
      "execution_count": null,
      "outputs": []
    },
    {
      "cell_type": "code",
      "source": [
        "#Instantiate your model:\n",
        "model = Digit_Classifier()"
      ],
      "metadata": {
        "id": "wvoki-9bcroi"
      },
      "execution_count": null,
      "outputs": []
    },
    {
      "cell_type": "markdown",
      "source": [
        "### Hyperparameters Tuning"
      ],
      "metadata": {
        "id": "Y_PKaBjydcTH"
      }
    },
    {
      "cell_type": "code",
      "source": [
        "#hyperparameters: currently all are set to 1, it is up to you to figure out what they should be\n",
        "#Don't just randomly change the hyperparameters: consider what each of them are changing (look in the code to find where the actually affect things)\n",
        "num_epochs = 10\n",
        "learning_rate = 0.001\n",
        "momentum = 0.9\n",
        "criterion = nn.CrossEntropyLoss() #consider using these loss functions: https://pytorch.org/docs/stable/nn.html#loss-functions\n",
        "# optimizer = torch.optim.SGD(model.parameters(), lr=learning_rate, momentum=momentum) #consider using these optimizers: https://pytorch.org/docs/stable/optim.html#algorithms\n",
        "optimizer = torch.optim.Adam(model.parameters(), lr=learning_rate)"
      ],
      "metadata": {
        "id": "1POcFfXFcW4A"
      },
      "execution_count": null,
      "outputs": []
    },
    {
      "cell_type": "markdown",
      "source": [
        "### Model Training"
      ],
      "metadata": {
        "id": "S_s9viccdZhK"
      }
    },
    {
      "cell_type": "code",
      "source": [
        "#Consider how you will keep track of losses, it would be great to have graphs of your loss over time in your final presentation\n",
        "running_loss = []\n",
        "\n",
        "#Training loop\n",
        "for i in range(num_epochs):\n",
        "  model.train()\n",
        "  temp = 0\n",
        "  for images, labels in trainloader:\n",
        "    # do any preprocessing, for example flattening if needed\n",
        "    # images = images.reshape(-1, 28*28)\n",
        "    # images = images.view(images.shape[0], -1)\n",
        "    #zero out the gradients\n",
        "    optimizer.zero_grad()\n",
        "    #Calculate the output\n",
        "    outputs = model(images)\n",
        "    #Calculate the loss of the output, note: labels are the ACTUAL image labels, whereas output are your models guesses\n",
        "    \n",
        "    loss = criterion(outputs, labels)\n",
        "    #Backpropagation (this is the part where we take the gradients [multivariable derivatives] of all the weights)\n",
        "    loss.backward()\n",
        "    #This is the part where we actually update the weights: how is learning_rate related to this step?\n",
        "    optimizer.step()\n",
        "    #Consider adding some checking here to see how your loss has been doing over time, this will save you a lot of time if you can notice immediate issues\n",
        "    temp += loss.item()\n",
        "    #While this is not required it is HIGHLY recommended, try to do it yourself but reach out if you need help\n",
        "  running_loss.append(temp)\n",
        "  print(f'Epoch: {i}, Loss: {running_loss[-1]/len(trainloader)}')"
      ],
      "metadata": {
        "id": "m0lLkcJ0dYVu",
        "colab": {
          "base_uri": "https://localhost:8080/"
        },
        "outputId": "36410953-fca5-4778-949f-1ff8d36b1399"
      },
      "execution_count": null,
      "outputs": [
        {
          "output_type": "stream",
          "name": "stdout",
          "text": [
            "Epoch: 0, Loss: 0.33902227084464165\n",
            "Epoch: 1, Loss: 0.11454101898340083\n",
            "Epoch: 2, Loss: 0.0880076169130156\n",
            "Epoch: 3, Loss: 0.07509350836890609\n",
            "Epoch: 4, Loss: 0.06670961786644347\n",
            "Epoch: 5, Loss: 0.06103374998964894\n",
            "Epoch: 6, Loss: 0.056790699375230375\n",
            "Epoch: 7, Loss: 0.05290459467732071\n",
            "Epoch: 8, Loss: 0.050147467305380375\n",
            "Epoch: 9, Loss: 0.047783824635906885\n"
          ]
        }
      ]
    },
    {
      "cell_type": "markdown",
      "source": [
        "### Save your model"
      ],
      "metadata": {
        "id": "KT26dR_kdSEo"
      }
    },
    {
      "cell_type": "code",
      "source": [
        "#Save your model weights (this will generate a file that you will have to submit to us)\n",
        "\n",
        "torch.save(model.state_dict(), '/content/gdrive/MyDrive/E96A ML Group Project/weights_conv.pth')"
      ],
      "metadata": {
        "id": "L4rlb-YQfEWZ"
      },
      "execution_count": null,
      "outputs": []
    },
    {
      "cell_type": "markdown",
      "source": [
        "### Evaluate Test Accuracy"
      ],
      "metadata": {
        "id": "DjtkJ9PvdVNh"
      }
    },
    {
      "cell_type": "code",
      "source": [
        "model.eval()\n",
        "correct = 0\n",
        "total = 0\n",
        "\n",
        "#ensure gradients won't get changed\n",
        "with torch.no_grad():\n",
        "  for images, labels in testloader:\n",
        "    for i in range(len(labels)):\n",
        "      #do any preprocessing\n",
        "      # img = images[i].view(1,28*28)\n",
        "      #calculate the output\n",
        "      output = model(images)\n",
        "\n",
        "      _, predicted = torch.max(output.data, 1)\n",
        "      #predicted_label = output.index(max(output))\n",
        "\n",
        "      total += labels.size(0)\n",
        "      correct += (predicted == labels).sum().item() \n",
        "\n",
        "      ''' if predicted_label == labels[i]:\n",
        "        correct += 1\n",
        "      total += 1 '''\n",
        "\n",
        "print(\"Test accuracy: \", correct/total)"
      ],
      "metadata": {
        "id": "KIy2JbM-fT1z",
        "colab": {
          "base_uri": "https://localhost:8080/"
        },
        "outputId": "54877b74-d591-4b40-8776-07ce069d1482"
      },
      "execution_count": null,
      "outputs": [
        {
          "output_type": "stream",
          "name": "stdout",
          "text": [
            "Test accuracy:  0.9832799359231077\n"
          ]
        }
      ]
    }
  ]
}